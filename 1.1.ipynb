{
 "cells": [
  {
   "cell_type": "markdown",
   "metadata": {},
   "source": [
    "## Installation of Python"
   ]
  },
  {
   "cell_type": "markdown",
   "metadata": {},
   "source": [
    "1. Start IDLE, we get the python shell window. \n",
    "2. Then click FILE menu, and select NEW WINDOW. An editor window will prompt out. \n",
    "3. In the editor window, we can type a complete program.\n",
    "4. Then, save the file by clicking FILE-SAVE. The name of the file ends with .py\n",
    "5. To run the complete program, we click Run menu in the editor window, and selecting RUN MODULE\n",
    "6. Finally, the output of the program will be produced in the python shell window."
   ]
  },
  {
   "cell_type": "markdown",
   "metadata": {},
   "source": [
    "## Statements"
   ]
  },
  {
   "cell_type": "markdown",
   "metadata": {},
   "source": [
    "* A program is a list of instructions, or STATEMENTS.\n",
    "* Each statement functions as 'performing arithmetic’,'asking for input from the user', 'printing out results'..\n",
    "* There are various types of statements."
   ]
  },
  {
   "cell_type": "markdown",
   "metadata": {},
   "source": [
    "### Type 1:                      ASSIGNMENT statement\n",
    "\n",
    "    "
   ]
  },
  {
   "cell_type": "markdown",
   "metadata": {},
   "source": [
    "- Quantities of interest are represented by variables, which play the same role as they do in ordinary algebra.\n",
    "\n",
    "- We can think of the variable as a box that stores a value for me, so that we can come back and retrieve that value at a later time, OR change it to a different value.\n",
    " \n",
    "- We will use variables to represent physical quantities like positions, velocities, forces, fields, voltages, probabilities, and wavefunctions.\n",
    "\n",
    "- ASSIGNMENT statement tells the computer there is a VARIABLE called x, and we are assigning it the VALUE 1.\n",
    "\n"
   ]
  },
  {
   "cell_type": "code",
   "execution_count": 4,
   "metadata": {},
   "outputs": [
    {
     "name": "stdout",
     "output_type": "stream",
     "text": [
      "1\n"
     ]
    }
   ],
   "source": [
    "x=1 \n",
    "\n",
    "# LHS = variable, \n",
    "# RHS = quantities of interest,e.g, numbers, vectors, matrices(sets of numbers)\n",
    "# ASSIGNMENT statement tells the computer there is a VARIABLE called x, and we are assigning it the VALUE 1.\n",
    "\n",
    "print (x)"
   ]
  },
  {
   "cell_type": "markdown",
   "metadata": {},
   "source": [
    "- Variable name in Python can contain letters, numbers and the underscore symbol _ , and can be as long as we like. But cannnot contain other symbols or space. Upper- and lower-case letters are distinct from each other."
   ]
  },
  {
   "cell_type": "code",
   "execution_count": 2,
   "metadata": {},
   "outputs": [
    {
     "name": "stdout",
     "output_type": "stream",
     "text": [
      "100\n",
      "2000\n"
     ]
    }
   ],
   "source": [
    "Physics_201=100\n",
    "# The variable is different from that of\n",
    "physics_201=2000\n",
    "print (Physics_201)\n",
    "print (physics_201)"
   ]
  },
  {
   "cell_type": "markdown",
   "metadata": {},
   "source": [
    "* give your variables meaningful name that describe what they represent. \n",
    "e.g. angular_velocity\n",
    "* variables cannot have names that are \"reserved words\" in Python, e.g., \"for\" \"if\" \"while\""
   ]
  },
  {
   "cell_type": "markdown",
   "metadata": {},
   "source": [
    "\n",
    "** There are different types of variables. **\n",
    "Each type of variables store distinct kind of quantities.\n",
    "The main types includes:\n",
    "1. Integer Variable\n",
    "2. Float or Floating-point Variable\n",
    "3. Complex Variable\n",
    "\n",
    "We categorize numbers into different types of variables in order to save the memory space and the time for the computer to run the calculations of the program. \n",
    "\n",
    "To tell the computer what type we want a variable to be, simply choose the suitable type of value to assign to the variable. From 1 to 3, each corresponds to integer value, float number, and complex number, respectively."
   ]
  },
  {
   "cell_type": "markdown",
   "metadata": {},
   "source": [
    "#### Integer Variable"
   ]
  },
  {
   "cell_type": "markdown",
   "metadata": {},
   "source": [
    "Integer: integer values (both positive and negative values), such as 1,0,or -27834.\n",
    "Integer variables are perfectly accurate. They represent the exact integer we assign to them.\n",
    "* if you have an integer quantity, use an integer variable.\n"
   ]
  },
  {
   "cell_type": "code",
   "execution_count": null,
   "metadata": {},
   "outputs": [],
   "source": [
    "x=1\n",
    "y=-27834"
   ]
  },
  {
   "cell_type": "markdown",
   "metadata": {},
   "source": [
    "#### Floating-point Variable"
   ]
  },
  {
   "cell_type": "markdown",
   "metadata": {},
   "source": [
    "Float: real,or floating-point values. e.g., 3.14159, -6.63*10^-34, or 1.0.(a float variable can take integer value like 1.0, but integer value cannot take float variable)\n",
    "* on modern computers, computer calculations are only accurate to 16 significant figures.\n",
    "As a result, the value 1 assigned to a floating-point variable may actually be stored on the computer as 0.99999999999999999999.\n",
    "* Bugs and problems will arise if in the program we deal with sth like \"x<1.0\". To avoid this, we should store an integer in an integer variable. \n"
   ]
  },
  {
   "cell_type": "code",
   "execution_count": null,
   "metadata": {},
   "outputs": [],
   "source": [
    "x=1.5\n",
    "y=1.2e34 # means 1.2*10^34"
   ]
  },
  {
   "cell_type": "markdown",
   "metadata": {},
   "source": [
    "#### Complex Variable"
   ]
  },
  {
   "cell_type": "markdown",
   "metadata": {},
   "source": [
    "Complex: complex values(not a real number), e.g., 1+2j, -3.5-0.4j(the unit imaginary number is called j in Python, instead of i) \n",
    "The Complex number consume the most memory space and time to run, the float number the second, and the integers the least. "
   ]
  },
  {
   "cell_type": "code",
   "execution_count": null,
   "metadata": {},
   "outputs": [],
   "source": [
    "x=1+2j\n",
    "y=1e-12+2.3e45j"
   ]
  },
  {
   "cell_type": "markdown",
   "metadata": {},
   "source": [
    "* in a well-written program, the type of a variable will be set the first time it is given a value and will remain the same for the rest of the program. But,it is practical to change the type of a variable by the following way, though not recommended. "
   ]
  },
  {
   "cell_type": "code",
   "execution_count": null,
   "metadata": {},
   "outputs": [],
   "source": [
    "x=1\n",
    "x=1.5"
   ]
  },
  {
   "cell_type": "markdown",
   "metadata": {},
   "source": [
    "Q: How can we tell the computer we want a variable be a float rather than an integer? Or, we want a complex variable with real value/rather than a floating-point variable?"
   ]
  },
  {
   "cell_type": "code",
   "execution_count": 5,
   "metadata": {},
   "outputs": [
    {
     "name": "stdout",
     "output_type": "stream",
     "text": [
      "1.0 1.0\n",
      "(1.5+0j) (1.5+0j)\n"
     ]
    }
   ],
   "source": [
    "#A:\n",
    "#Example 1: convert a integer variable with value 1 into a floating-point variable of same vlaue\n",
    "#Method 1: specify a value that has an explicit decimal point in it.\n",
    "x= 1.0\n",
    "#Method 2: tells the computer to take the value 1 and convert it to a floating-point value.\n",
    "X= float (1)\n",
    "print (x,X)\n",
    "\n",
    "#Example 2: create a variable of complex type, but it is given a purely real value(that is, no complex part)\n",
    "#Method 1: set the imaginary part as 0\n",
    "y=1.5+0j\n",
    "#Method 2: tell the computer to take the value 1.5 and then convert it to a complex value.\n",
    "Y=complex(1.5)\n",
    "print (y,Y)"
   ]
  },
  {
   "cell_type": "markdown",
   "metadata": {},
   "source": [
    "### String Variable"
   ]
  },
  {
   "cell_type": "markdown",
   "metadata": {},
   "source": [
    "A string variable stores text in the form of string of letters, punctuation. symbols, digits, and so forth.\n",
    "We use quotation marks to indicate a string value."
   ]
  },
  {
   "cell_type": "code",
   "execution_count": 2,
   "metadata": {},
   "outputs": [
    {
     "name": "stdout",
     "output_type": "stream",
     "text": [
      "Hello world!\n"
     ]
    }
   ],
   "source": [
    "x=\"Hello world!\"\n",
    "# LHS=a variable\n",
    "# RHS=a string value\n",
    "# This statement creates a variable x of string type with value \"Hello world!\"\n",
    "print (x)"
   ]
  },
  {
   "cell_type": "markdown",
   "metadata": {},
   "source": [
    "In physics programming, stirng variables come up rarely. But they do appear in the following section on input and output."
   ]
  },
  {
   "cell_type": "markdown",
   "metadata": {},
   "source": [
    "Notes:\n",
    "1. By far, we are free to put spaces between parts of the statement to improve the readability of a program.\n",
    "  e.g. it is same to write x=1 as x = 1.\n",
    "2. However, we cannot add extra spaces at the beginning of a line(before the start of the statement).Adding extra spaces will have an effect on the way the program works.\n",
    "3. We can includ blank lines between statements in a program to make the program easier to understand.\n",
    "  e.g. x=1\n",
    "  \n",
    "     y=1"
   ]
  },
  {
   "cell_type": "markdown",
   "metadata": {},
   "source": [
    "### OUTPUT Statement, or \"Print\" Statement"
   ]
  },
  {
   "cell_type": "code",
   "execution_count": 1,
   "metadata": {},
   "outputs": [
    {
     "name": "stdout",
     "output_type": "stream",
     "text": [
      "(1.2+3j)\n",
      "x\n"
     ]
    }
   ],
   "source": [
    "x=1.2+3j\n",
    "print (x) # this is an output statement, or \"print\" statement\n",
    "# It tells the computer to print the VALUE of x on the screen, in this case, is 1.2+3j.\n",
    "\n",
    "# In comparison, \n",
    "print (\"x\") \n",
    "# It prints words, in this case, is the letter \"x\"."
   ]
  },
  {
   "cell_type": "markdown",
   "metadata": {},
   "source": [
    "The print statement always prints the current value of the variable at the moment the statement is excuted."
   ]
  },
  {
   "cell_type": "code",
   "execution_count": 2,
   "metadata": {},
   "outputs": [
    {
     "name": "stdout",
     "output_type": "stream",
     "text": [
      "1\n",
      "2\n"
     ]
    }
   ],
   "source": [
    "x=1\n",
    "print (x)\n",
    "x=2\n",
    "print (x)"
   ]
  },
  {
   "cell_type": "code",
   "execution_count": 3,
   "metadata": {},
   "outputs": [
    {
     "name": "stdout",
     "output_type": "stream",
     "text": [
      "1 2\n"
     ]
    }
   ],
   "source": [
    "# The print statement can be used to pring out more than one thing on a line.\n",
    "x=1\n",
    "y=2\n",
    "print (x,y) # they will be printed with a space between them, without a comma."
   ]
  },
  {
   "cell_type": "code",
   "execution_count": 5,
   "metadata": {},
   "outputs": [
    {
     "name": "stdout",
     "output_type": "stream",
     "text": [
      "the value of x is 1 ，the value of y is 2\n"
     ]
    }
   ],
   "source": [
    "# We can also print out words or sentences\n",
    "x=1\n",
    "y=2\n",
    "print (\"the value of x is\",x,\"，the value of y is\",y)"
   ]
  },
  {
   "cell_type": "markdown",
   "metadata": {},
   "source": [
    "A print statement can include any string of quantities separated by commas, or text in quotation marks, and the computer will simply print out the appropriate things in order, with spaces in between.\n",
    "\n",
    "To print things with sth other than spaces in between, we use the code sep=\"...\". Whatever appears in between the quotation marks will be used by computer as a sparater between values."
   ]
  },
  {
   "cell_type": "code",
   "execution_count": 12,
   "metadata": {},
   "outputs": [
    {
     "name": "stdout",
     "output_type": "stream",
     "text": [
      "1.5 (2+3j)\n",
      "1.5(2+3j)\n",
      "1.5|(2+3j)\n"
     ]
    }
   ],
   "source": [
    "x=1.5\n",
    "y=2+3j\n",
    "print (x,y)\n",
    "print (x,y,sep=\"\") # no separator(space) between values\n",
    "print (x,y,sep=\"|\") \n"
   ]
  },
  {
   "cell_type": "markdown",
   "metadata": {},
   "source": [
    "### Input Statements"
   ]
  },
  {
   "cell_type": "code",
   "execution_count": null,
   "metadata": {},
   "outputs": [],
   "source": [
    "#Basic form of an input statement\n",
    "x=input(\"Enter the value of x:\")"
   ]
  },
  {
   "cell_type": "markdown",
   "metadata": {},
   "source": [
    "The computer executes the statement by first prints out the quantity, if any, inside the parentheses.\n",
    "Next, the computer will wait for the user to type a value on the keyboard, and then assign the value to the variable x.\n",
    "* The value entered is always interpreted as a string value(in Version Python 3), even if you type in a number."
   ]
  },
  {
   "cell_type": "code",
   "execution_count": null,
   "metadata": {},
   "outputs": [],
   "source": [
    "x=input(\"Enter the value of x:\")# Anything we type in is a string. Thus anything (digits, letters, a complete word, several words)are fine to type in.\n",
    "print (\"the value of x is\",x)"
   ]
  }
 ],
 "metadata": {
  "kernelspec": {
   "display_name": "Python 3",
   "language": "python",
   "name": "python3"
  },
  "language_info": {
   "codemirror_mode": {
    "name": "ipython",
    "version": 3
   },
   "file_extension": ".py",
   "mimetype": "text/x-python",
   "name": "python",
   "nbconvert_exporter": "python",
   "pygments_lexer": "ipython3",
   "version": "3.7.3"
  }
 },
 "nbformat": 4,
 "nbformat_minor": 0
}
