{
 "cells": [
  {
   "cell_type": "markdown",
   "metadata": {},
   "source": [
    "## Upload jupyter notebook to GitHub"
   ]
  },
  {
   "cell_type": "markdown",
   "metadata": {},
   "source": [
    "* Breaking down to 2 steps\n",
    "1. Save the file from the jupyter notebook to the computer\n",
    "2. Upload the saved file from the computer to GitHub"
   ]
  },
  {
   "cell_type": "markdown",
   "metadata": {},
   "source": [
    "### 1. Save the notebook file"
   ]
  },
  {
   "cell_type": "markdown",
   "metadata": {},
   "source": [
    "*  click 'File'-'Download as'-'Notebook.ipnyb'\n",
    "*  Choose 'Save as'-'Desktop'/..."
   ]
  },
  {
   "cell_type": "markdown",
   "metadata": {},
   "source": [
    "### 2. Upload to GitHub"
   ]
  },
  {
   "cell_type": "markdown",
   "metadata": {},
   "source": [
    "* Login GitHub, go to my repositories\n",
    "* Choose Python-1:https://github.com/YijieSheng/python-1\n",
    "* Click 'Upload file'-'Desktop'/...\n",
    "* Scroll down and click commit changes, then the file is saved."
   ]
  },
  {
   "cell_type": "markdown",
   "metadata": {},
   "source": [
    "## View & edit jupyter notebook on the Jupyter nbViewer"
   ]
  },
  {
   "cell_type": "markdown",
   "metadata": {},
   "source": [
    "1. Copy the URL of the chosen file from the GitHub: e.g., https://github.com/YijieSheng/python-1/blob/master/1.1.ipynb\n",
    "2. Login Jupyter nbViewer website: https://nbviewer.jupyter.org/\n",
    "3. Paste the URL in the textfield at the middle of the website\n",
    "4. Then the notebook can be **viewed** at: e.g.,https://nbviewer.jupyter.org/github/YijieSheng/python-1/blob/master/1.1.ipynb\n",
    "5. To **edit** the file with the same working environment as at the localhost of jupyter notebook, click the logo at the top right cornor of the webpage(the page at step 4)----\"Excute on Binder\", wait until the page is loaded.\n",
    " "
   ]
  }
 ],
 "metadata": {
  "kernelspec": {
   "display_name": "Python 3",
   "language": "python",
   "name": "python3"
  },
  "language_info": {
   "codemirror_mode": {
    "name": "ipython",
    "version": 3
   },
   "file_extension": ".py",
   "mimetype": "text/x-python",
   "name": "python",
   "nbconvert_exporter": "python",
   "pygments_lexer": "ipython3",
   "version": "3.7.3"
  }
 },
 "nbformat": 4,
 "nbformat_minor": 2
}
